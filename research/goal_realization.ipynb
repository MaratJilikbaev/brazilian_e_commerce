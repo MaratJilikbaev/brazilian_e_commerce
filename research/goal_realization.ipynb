{
 "cells": [
  {
   "cell_type": "code",
   "execution_count": 153,
   "metadata": {},
   "outputs": [],
   "source": [
    "import pandas as pd\n",
    "import numpy as np\n",
    "import matplotlib.pyplot as plt\n",
    "import seaborn as sns\n",
    "import requests\n",
    "import json\n",
    "import time\n",
    "import pickle\n",
    "import os"
   ]
  },
  {
   "cell_type": "markdown",
   "metadata": {},
   "source": [
    "Our goal is to check last black friday sale and understand\n",
    "1) Our marketing department wants to know what product category purchase rate is the highest and also what product category is giving our company the highest amount of income.\n",
    "2) Is there price difference between black friday sales and other days sales? We want to increese our income so our company will try to decrease sale % (A/B test required)\n",
    "3) What categories of products were sold the most by state and city - we need to be sure that we have enough goods for our customers\n",
    "\n",
    "Having this 3 objectives here is the list of steps that we need to do\n",
    "1) import all related datasets\n",
    "2) check all the types of imported columns\n",
    "3) check all the columns for missing values\n",
    "4) check for anomalies\n",
    "5) rename-translate-transform data, create one big table, prepare it for analysis\n",
    "6) answer the questions\n",
    "\n",
    "Step 6 will be discussed later in details"
   ]
  },
  {
   "cell_type": "markdown",
   "metadata": {},
   "source": [
    "# Import all related datasets"
   ]
  },
  {
   "cell_type": "markdown",
   "metadata": {},
   "source": [
    "We need 4 tables here\n",
    "1) data/olist_orders_dataset.csv - here we have order_id, order_status and order_purchase_timestamp\n",
    "2) data/olist_order_items_dataset.csv - here we have order_id, product_id and price per item\n",
    "3) data/olist_products_dataset.csv - here we have product_id and product_category_name"
   ]
  },
  {
   "cell_type": "code",
   "execution_count": 111,
   "metadata": {},
   "outputs": [
    {
     "name": "stdout",
     "output_type": "stream",
     "text": [
      "olist_orders_dataset.csv imported sucsessfully! Shape is (99441, 3)\n",
      "olist_order_items_dataset.csv imported sucsessfully! Shape is (112650, 3)\n",
      "olist_products_dataset.csv imported sucsessfully! Shape is (32951, 2)\n"
     ]
    }
   ],
   "source": [
    "orders_file_path = '../data/olist_orders_dataset.csv'\n",
    "order_items_file_path = '../data/olist_order_items_dataset.csv'\n",
    "products_file_path = '../data/olist_products_dataset.csv'\n",
    "\n",
    "orders_col_list = ['order_id', 'order_status', 'order_purchase_timestamp']\n",
    "order_items_col_list = ['order_id', 'product_id', 'price']\n",
    "products_col_list = ['product_id', 'product_category_name']\n",
    "\n",
    "# TODO prints will be logs in .py programm\n",
    "def get_filename_from_filepath(filepath):\n",
    "    # TODO add another checks - windows \\ path, case when file in the same dir, etc.\n",
    "    position_of_last_slash = filepath.rfind('/')\n",
    "    filename = filepath[position_of_last_slash + 1:]\n",
    "    return filename\n",
    "\n",
    "def import_and_check_dataframe(filepath: str, col_list):\n",
    "    # TODO add different imports for different filetypes\n",
    "    filename = get_filename_from_filepath(filepath)\n",
    "    # TODO add try exept here\n",
    "    df = pd.read_csv(filepath, usecols=col_list)\n",
    "\n",
    "    if ~df.empty:\n",
    "        print(filename + ' imported sucsessfully! Shape is', df.shape)\n",
    "    else:\n",
    "        print('Empty dataframe! Check file')\n",
    "\n",
    "    return df\n",
    "\n",
    "df_orders = import_and_check_dataframe(orders_file_path, orders_col_list)\n",
    "df_order_items = import_and_check_dataframe(order_items_file_path, order_items_col_list)\n",
    "df_products = import_and_check_dataframe(products_file_path, products_col_list)\n",
    "\n",
    "all_dataframes_with_names = [['orders_dataset', df_orders], ['order_items', df_order_items], ['products',df_products]]"
   ]
  },
  {
   "cell_type": "markdown",
   "metadata": {},
   "source": [
    "# Check all the types of imported columns\n",
    "# Plus missing values"
   ]
  },
  {
   "cell_type": "code",
   "execution_count": 112,
   "metadata": {},
   "outputs": [
    {
     "name": "stdout",
     "output_type": "stream",
     "text": [
      "----------------------------------------\n",
      "general information on orders_dataset df\n",
      "----------------------------------------\n",
      "non missing values and dtypes\n",
      "<class 'pandas.core.frame.DataFrame'>\n",
      "RangeIndex: 99441 entries, 0 to 99440\n",
      "Data columns (total 3 columns):\n",
      " #   Column                    Non-Null Count  Dtype \n",
      "---  ------                    --------------  ----- \n",
      " 0   order_id                  99441 non-null  object\n",
      " 1   order_status              99441 non-null  object\n",
      " 2   order_purchase_timestamp  99441 non-null  object\n",
      "dtypes: object(3)\n",
      "memory usage: 2.3+ MB\n",
      "None\n",
      "----------------------------------------\n",
      "only missing values\n",
      "order_id                    0\n",
      "order_status                0\n",
      "order_purchase_timestamp    0\n",
      "dtype: int64\n",
      "----------------------------------------\n",
      "----------------------------------------\n",
      "general information on order_items df\n",
      "----------------------------------------\n",
      "non missing values and dtypes\n",
      "<class 'pandas.core.frame.DataFrame'>\n",
      "RangeIndex: 112650 entries, 0 to 112649\n",
      "Data columns (total 3 columns):\n",
      " #   Column      Non-Null Count   Dtype  \n",
      "---  ------      --------------   -----  \n",
      " 0   order_id    112650 non-null  object \n",
      " 1   product_id  112650 non-null  object \n",
      " 2   price       112650 non-null  float64\n",
      "dtypes: float64(1), object(2)\n",
      "memory usage: 2.6+ MB\n",
      "None\n",
      "----------------------------------------\n",
      "only missing values\n",
      "order_id      0\n",
      "product_id    0\n",
      "price         0\n",
      "dtype: int64\n",
      "----------------------------------------\n",
      "----------------------------------------\n",
      "general information on products df\n",
      "----------------------------------------\n",
      "non missing values and dtypes\n",
      "<class 'pandas.core.frame.DataFrame'>\n",
      "RangeIndex: 32951 entries, 0 to 32950\n",
      "Data columns (total 2 columns):\n",
      " #   Column                 Non-Null Count  Dtype \n",
      "---  ------                 --------------  ----- \n",
      " 0   product_id             32951 non-null  object\n",
      " 1   product_category_name  32341 non-null  object\n",
      "dtypes: object(2)\n",
      "memory usage: 515.0+ KB\n",
      "None\n",
      "----------------------------------------\n",
      "only missing values\n",
      "product_id                 0\n",
      "product_category_name    610\n",
      "dtype: int64\n",
      "----------------------------------------\n"
     ]
    }
   ],
   "source": [
    "def show_info_on_df(name_df_pair):\n",
    "    name = name_df_pair[0]\n",
    "    df = name_df_pair[1]\n",
    "    print('-' * 40)\n",
    "    print('general information on', name, 'df')\n",
    "    print('-' * 40)\n",
    "    print('non missing values and dtypes')\n",
    "    print(df.info())\n",
    "    print('-' * 40)\n",
    "    print('only missing values')\n",
    "    print(df.isnull().sum())\n",
    "\n",
    "    print('-' * 40)\n",
    "\n",
    "\n",
    "for pair in all_dataframes_with_names:\n",
    "    show_info_on_df(pair)\n"
   ]
  },
  {
   "cell_type": "markdown",
   "metadata": {},
   "source": [
    "order_purchase_timestamp column in df_orders imported as object. We need to transform it to datetime format\n",
    "\n",
    "We have 610 products with missing category. This is less than 2% of all products.<br>\n",
    "In most cases it is reasonable to drop this data, but let's be extra safe here and be sure that this products sell rate is low (we will check it later)"
   ]
  },
  {
   "cell_type": "code",
   "execution_count": 113,
   "metadata": {},
   "outputs": [
    {
     "name": "stdout",
     "output_type": "stream",
     "text": [
      "<class 'pandas.core.frame.DataFrame'>\n",
      "RangeIndex: 99441 entries, 0 to 99440\n",
      "Data columns (total 3 columns):\n",
      " #   Column                    Non-Null Count  Dtype         \n",
      "---  ------                    --------------  -----         \n",
      " 0   order_id                  99441 non-null  object        \n",
      " 1   order_status              99441 non-null  object        \n",
      " 2   order_purchase_timestamp  99441 non-null  datetime64[ns]\n",
      "dtypes: datetime64[ns](1), object(2)\n",
      "memory usage: 2.3+ MB\n",
      "None\n",
      "--------------------------------------------------------------------------------\n",
      "2017-10-02 10:56:33 \n",
      "year\t 2017 \n",
      "month\t 10 \n",
      "day\t 2 \n",
      "hour\t 10\n",
      "everything is ok\n"
     ]
    }
   ],
   "source": [
    "# TODO we can create a function here. But for now it is only one column\n",
    "# TODO add possible format scheme for parsing timestamp like \"dd-mm-yyy HH:MM:SS\"\n",
    "# transform order_purchase_timestamp to datetime\n",
    "df_orders['order_purchase_timestamp'] = pd.to_datetime(df_orders['order_purchase_timestamp'])\n",
    "print(df_orders.info())\n",
    "print('-' * 80)\n",
    "\n",
    "# testing that everything worked just fine\n",
    "timestamp_test_obj = df_orders['order_purchase_timestamp'].iloc[0]\n",
    "\n",
    "try:\n",
    "    print(timestamp_test_obj, \n",
    "        \"\\nyear\\t\", timestamp_test_obj.year, \n",
    "        \"\\nmonth\\t\", timestamp_test_obj.month, \n",
    "        \"\\nday\\t\", timestamp_test_obj.day, \n",
    "        \"\\nhour\\t\", timestamp_test_obj.hour)\n",
    "    print('everything is ok')\n",
    "except Exception as e:\n",
    "    print(f'something is wrong, check error: \\n{e}')\n"
   ]
  },
  {
   "cell_type": "markdown",
   "metadata": {},
   "source": [
    "# Check anomalies"
   ]
  },
  {
   "cell_type": "code",
   "execution_count": 114,
   "metadata": {},
   "outputs": [
    {
     "name": "stdout",
     "output_type": "stream",
     "text": [
      "----------------------------------------\n",
      "general stat information on orders_dataset df\n",
      "----------------------------------------\n",
      "                                order_id order_status order_purchase_timestamp\n",
      "count                              99441        99441                    99441\n",
      "unique                             99441            8                    98875\n",
      "top     e481f51cbdc54678b7cc49136f2d6af7    delivered      2018-04-11 10:48:14\n",
      "freq                                   1        96478                        3\n",
      "first                                NaN          NaN      2016-09-04 21:15:19\n",
      "last                                 NaN          NaN      2018-10-17 17:30:18\n",
      "----------------------------------------\n",
      "----------------------------------------\n",
      "general stat information on order_items df\n",
      "----------------------------------------\n",
      "               price\n",
      "count  112650.000000\n",
      "mean      120.653739\n",
      "std       183.633928\n",
      "min         0.850000\n",
      "25%        39.900000\n",
      "50%        74.990000\n",
      "75%       134.900000\n",
      "max      6735.000000\n",
      "----------------------------------------\n",
      "----------------------------------------\n",
      "general stat information on products df\n",
      "----------------------------------------\n",
      "                              product_id product_category_name\n",
      "count                              32951                 32341\n",
      "unique                             32951                    73\n",
      "top     1e9e8ef04dbcff4541ed26657ea517e5       cama_mesa_banho\n",
      "freq                                   1                  3029\n",
      "----------------------------------------\n"
     ]
    },
    {
     "name": "stderr",
     "output_type": "stream",
     "text": [
      "/tmp/ipykernel_375/670927774.py:7: FutureWarning: Treating datetime data as categorical rather than numeric in `.describe` is deprecated and will be removed in a future version of pandas. Specify `datetime_is_numeric=True` to silence this warning and adopt the future behavior now.\n",
      "  print(df.describe())\n"
     ]
    }
   ],
   "source": [
    "def calculate_statistic_info(name_df_pair):\n",
    "    name = name_df_pair[0]\n",
    "    df = name_df_pair[1]\n",
    "    print('-' * 40)\n",
    "    print('general stat information on', name, 'df')\n",
    "    print('-' * 40)\n",
    "    print(df.describe())\n",
    "    print('-' * 40)\n",
    "\n",
    "\n",
    "for pair in all_dataframes_with_names:\n",
    "    calculate_statistic_info(pair)\n"
   ]
  },
  {
   "cell_type": "markdown",
   "metadata": {},
   "source": [
    "Looks like no anomalies here. Some prices could be really high and 6735$ for single item is something imaginable.\n",
    "Also we have data recorded for 2 years - so no 1900 year anomalies or something.\n",
    "Also it seems that logging of time is pretty precise because one of the most frequent value is 2018-04-11 10:48:14 and its only appears 3 times (and it is black friday) - so no delays or something in logging order_purchase_timestamp"
   ]
  },
  {
   "cell_type": "markdown",
   "metadata": {},
   "source": [
    "# Create one big table"
   ]
  },
  {
   "cell_type": "code",
   "execution_count": 115,
   "metadata": {},
   "outputs": [
    {
     "name": "stdout",
     "output_type": "stream",
     "text": [
      "(112650, 3)\n",
      "(112650, 6)\n",
      "----------------------------------------\n",
      "140136314151168\n",
      "140136318419056\n",
      "140136313836496\n",
      "140136923882736\n"
     ]
    }
   ],
   "source": [
    "# TODO here we can create function to check if our merges create duplicates - first thought: shape should remain the same\n",
    "\n",
    "print(df_order_items.shape)\n",
    "df_orders_plus = pd.merge(df_order_items, df_orders, on='order_id').merge(df_products, on='product_id')\n",
    "print(df_orders_plus.shape)\n",
    "\n",
    "# TODO remove this part, it is only for DEBUG and educational purposes\n",
    "# ------------------8<-----------------------\n",
    "# I'm just curious, let's check id's of this DataFrames objects. I bet df_orders_plus is in another memory cell\n",
    "print('-'*40)\n",
    "print(id(df_order_items))\n",
    "print(id(df_orders))\n",
    "print(id(df_products))\n",
    "print(id(df_orders_plus))\n",
    "\n",
    "# Nice =)\n",
    "# ------------------8<-----------------------\n"
   ]
  },
  {
   "cell_type": "code",
   "execution_count": 116,
   "metadata": {},
   "outputs": [
    {
     "name": "stdout",
     "output_type": "stream",
     "text": [
      "let's count how many products presented in db has no category 0.02 \n",
      "sum purch w/o category to all prch sum percent 1.32 \n",
      "count purch w/o category to all prch count percent 1.42\n"
     ]
    }
   ],
   "source": [
    "# Now we can check our products with missing categories\n",
    "sum_of_all_sold_products = df_orders_plus.price.sum()\n",
    "mask_for_purch_wo_category = df_orders_plus['product_category_name'].isnull()\n",
    "\n",
    "purch_wo_category_part_from_overall_purch_sum = df_orders_plus[mask_for_purch_wo_category].price.sum() / \\\n",
    "                                                sum_of_all_sold_products\n",
    "\n",
    "count_of_all_sold_products = df_orders_plus.shape[0]\n",
    "purch_wo_category_part_from_overall_purch_count = df_orders_plus[mask_for_purch_wo_category].shape[0] / \\\n",
    "                                                  count_of_all_sold_products\n",
    "\n",
    "print('let\\'s count how many products presented in db has no category',\n",
    "      np.float64(df_products.product_category_name.isnull().sum()/ df_products.shape[0]).round(2),\n",
    "      '\\nsum purch w/o category to all prch sum percent',     \n",
    "      (purch_wo_category_part_from_overall_purch_sum*100).round(2),\n",
    "      '\\ncount purch w/o category to all prch count percent',\n",
    "      np.float64(purch_wo_category_part_from_overall_purch_count*100).round(2))"
   ]
  },
  {
   "cell_type": "markdown",
   "metadata": {},
   "source": [
    "This simple analysis tels us that even there is only 0.02% of not products w/o category in our df_products dataset we can clearly see that sum and count of this products selling is more than 1%<br>\n",
    "We also don't have product names in our dataset. Only categories.<br>\n",
    "In real case scenario I would definitely consult with someone, who collected data or with business owner, but here I won't drop this data but I will assign \"unknown category\" label to it."
   ]
  },
  {
   "cell_type": "code",
   "execution_count": 117,
   "metadata": {},
   "outputs": [],
   "source": [
    "df_orders_plus['product_category_name'] = df_orders_plus['product_category_name'].fillna('unknown_category')\n",
    "# I have used underscore here. every category here is using this underscore"
   ]
  },
  {
   "cell_type": "code",
   "execution_count": 118,
   "metadata": {},
   "outputs": [
    {
     "name": "stdout",
     "output_type": "stream",
     "text": [
      "<class 'pandas.core.frame.DataFrame'>\n",
      "Int64Index: 112650 entries, 0 to 112649\n",
      "Data columns (total 6 columns):\n",
      " #   Column                    Non-Null Count   Dtype         \n",
      "---  ------                    --------------   -----         \n",
      " 0   order_id                  112650 non-null  object        \n",
      " 1   product_id                112650 non-null  object        \n",
      " 2   price                     112650 non-null  float64       \n",
      " 3   order_status              112650 non-null  object        \n",
      " 4   order_purchase_timestamp  112650 non-null  datetime64[ns]\n",
      " 5   product_category_name     112650 non-null  object        \n",
      "dtypes: datetime64[ns](1), float64(1), object(4)\n",
      "memory usage: 6.0+ MB\n"
     ]
    }
   ],
   "source": [
    "df_orders_plus.info()"
   ]
  },
  {
   "cell_type": "markdown",
   "metadata": {},
   "source": [
    "# Rename-translate-transform data"
   ]
  },
  {
   "cell_type": "code",
   "execution_count": 119,
   "metadata": {},
   "outputs": [
    {
     "data": {
      "text/plain": [
       "cama_mesa_banho                  11115\n",
       "beleza_saude                      9670\n",
       "esporte_lazer                     8641\n",
       "moveis_decoracao                  8334\n",
       "informatica_acessorios            7827\n",
       "                                 ...  \n",
       "cds_dvds_musicais                   14\n",
       "la_cuisine                          14\n",
       "pc_gamer                             9\n",
       "fashion_roupa_infanto_juvenil        8\n",
       "seguros_e_servicos                   2\n",
       "Name: product_category_name, Length: 74, dtype: int64"
      ]
     },
     "execution_count": 119,
     "metadata": {},
     "output_type": "execute_result"
    }
   ],
   "source": [
    "df_orders_plus.product_category_name.value_counts()\n",
    "# categories are in foreign language and merged together, let's try to fix it\n"
   ]
  },
  {
   "cell_type": "code",
   "execution_count": 94,
   "metadata": {},
   "outputs": [
    {
     "name": "stdout",
     "output_type": "stream",
     "text": [
      "{\"data\":{\"languages\":[{\"language\":\"af\"},{\"language\":\"ak\"},{\"language\":\"am\"},{\"language\":\"ar\"},{\"language\":\"as\"},{\"language\":\"ay\"},{\"language\":\"az\"},{\"language\":\"be\"},{\"language\":\"bg\"},{\"language\":\"bho\"},{\"language\":\"bm\"},{\"language\":\"bn\"},{\"language\":\"bs\"},{\"language\":\"ca\"},{\"language\":\"ceb\"},{\"language\":\"ckb\"},{\"language\":\"co\"},{\"language\":\"cs\"},{\"language\":\"cy\"},{\"language\":\"da\"},{\"language\":\"de\"},{\"language\":\"doi\"},{\"language\":\"dv\"},{\"language\":\"ee\"},{\"language\":\"el\"},{\"language\":\"en\"},{\"language\":\"eo\"},{\"language\":\"es\"},{\"language\":\"et\"},{\"language\":\"eu\"},{\"language\":\"fa\"},{\"language\":\"fi\"},{\"language\":\"fr\"},{\"language\":\"fy\"},{\"language\":\"ga\"},{\"language\":\"gd\"},{\"language\":\"gl\"},{\"language\":\"gn\"},{\"language\":\"gom\"},{\"language\":\"gu\"},{\"language\":\"ha\"},{\"language\":\"haw\"},{\"language\":\"he\"},{\"language\":\"hi\"},{\"language\":\"hmn\"},{\"language\":\"hr\"},{\"language\":\"ht\"},{\"language\":\"hu\"},{\"language\":\"hy\"},{\"language\":\"id\"},{\"language\":\"ig\"},{\"language\":\"ilo\"},{\"language\":\"is\"},{\"language\":\"it\"},{\"language\":\"iw\"},{\"language\":\"ja\"},{\"language\":\"jw\"},{\"language\":\"ka\"},{\"language\":\"kk\"},{\"language\":\"km\"},{\"language\":\"kn\"},{\"language\":\"ko\"},{\"language\":\"kri\"},{\"language\":\"ku\"},{\"language\":\"ky\"},{\"language\":\"la\"},{\"language\":\"lb\"},{\"language\":\"lg\"},{\"language\":\"ln\"},{\"language\":\"lo\"},{\"language\":\"lt\"},{\"language\":\"lus\"},{\"language\":\"lv\"},{\"language\":\"mai\"},{\"language\":\"mg\"},{\"language\":\"mi\"},{\"language\":\"mk\"},{\"language\":\"ml\"},{\"language\":\"mn\"},{\"language\":\"mni-Mtei\"},{\"language\":\"mr\"},{\"language\":\"ms\"},{\"language\":\"mt\"},{\"language\":\"my\"},{\"language\":\"ne\"},{\"language\":\"nl\"},{\"language\":\"no\"},{\"language\":\"nso\"},{\"language\":\"ny\"},{\"language\":\"om\"},{\"language\":\"or\"},{\"language\":\"pa\"},{\"language\":\"pl\"},{\"language\":\"ps\"},{\"language\":\"pt\"},{\"language\":\"qu\"},{\"language\":\"ro\"},{\"language\":\"ru\"},{\"language\":\"rw\"},{\"language\":\"sa\"},{\"language\":\"sd\"},{\"language\":\"si\"},{\"language\":\"sk\"},{\"language\":\"sl\"},{\"language\":\"sm\"},{\"language\":\"sn\"},{\"language\":\"so\"},{\"language\":\"sq\"},{\"language\":\"sr\"},{\"language\":\"st\"},{\"language\":\"su\"},{\"language\":\"sv\"},{\"language\":\"sw\"},{\"language\":\"ta\"},{\"language\":\"te\"},{\"language\":\"tg\"},{\"language\":\"th\"},{\"language\":\"ti\"},{\"language\":\"tk\"},{\"language\":\"tl\"},{\"language\":\"tr\"},{\"language\":\"ts\"},{\"language\":\"tt\"},{\"language\":\"ug\"},{\"language\":\"uk\"},{\"language\":\"ur\"},{\"language\":\"uz\"},{\"language\":\"vi\"},{\"language\":\"xh\"},{\"language\":\"yi\"},{\"language\":\"yo\"},{\"language\":\"zh\"},{\"language\":\"zh-CN\"},{\"language\":\"zh-TW\"},{\"language\":\"zu\"}]}}\n"
     ]
    }
   ],
   "source": [
    "\n",
    "\n",
    "url = \"https://google-translate1.p.rapidapi.com/language/translate/v2/languages\"\n",
    "\n",
    "headers = {\n",
    "\t\"Accept-Encoding\": \"application/gzip\",\n",
    "\t\"X-RapidAPI-Key\": \"951fd9ac96msh3b013ff9c3e72bap1e98f8jsnae389f244e8b\",\n",
    "\t\"X-RapidAPI-Host\": \"google-translate1.p.rapidapi.com\"\n",
    "}\n",
    "\n",
    "response = requests.request(\"GET\", url, headers=headers)\n",
    "\n",
    "print(response.text)"
   ]
  },
  {
   "cell_type": "code",
   "execution_count": 96,
   "metadata": {},
   "outputs": [
    {
     "name": "stdout",
     "output_type": "stream",
     "text": [
      "{\"data\":{\"translations\":[{\"translatedText\":\"¡Hola Mundo!\"}]}}\n"
     ]
    }
   ],
   "source": [
    "url = \"https://google-translate1.p.rapidapi.com/language/translate/v2\"\n",
    "\n",
    "payload = \"q=Hello%2C%20world!&target=es&source=en\"\n",
    "headers = {\n",
    "\t\"content-type\": \"application/x-www-form-urlencoded\",\n",
    "\t\"Accept-Encoding\": \"application/gzip\",\n",
    "\t\"X-RapidAPI-Key\": \"951fd9ac96msh3b013ff9c3e72bap1e98f8jsnae389f244e8b\",\n",
    "\t\"X-RapidAPI-Host\": \"google-translate1.p.rapidapi.com\"\n",
    "}\n",
    "\n",
    "response = requests.request(\"POST\", url, data=payload, headers=headers)\n",
    "\n",
    "print(response.text)"
   ]
  },
  {
   "cell_type": "markdown",
   "metadata": {},
   "source": [
    "ok, we have this google translate API via rapidapi.com. We can do 5 requests per second and no more 500 requests per month. So, we have like 495 requests more to finish this translation<br>\n",
    "Last .value_counts() operation showed us, that we have only 74 unique categories, so we can try to create multiple dicts with translations for categories<br>\n",
    "Then we need to serialize this python object to have it in file for next usages (again, we have only 500 requests per month, 5 requests per second)"
   ]
  },
  {
   "cell_type": "code",
   "execution_count": 120,
   "metadata": {},
   "outputs": [
    {
     "data": {
      "text/plain": [
       "'q=moveis_decoracao&target=en&source=pt'"
      ]
     },
     "execution_count": 120,
     "metadata": {},
     "output_type": "execute_result"
    }
   ],
   "source": [
    "# let's try our value\n",
    "def create_payload_from_value(value, target='en', source='pt'):\n",
    "    payload = \"q=\"\n",
    "    payload += value\n",
    "    payload += f'&target={target}&source={source}'\n",
    "    return payload\n",
    "\n",
    "create_payload_from_value(df_orders_plus.product_category_name.unique()[2])"
   ]
  },
  {
   "cell_type": "code",
   "execution_count": 124,
   "metadata": {},
   "outputs": [
    {
     "data": {
      "text/plain": [
       "'ferramentas_jardim'"
      ]
     },
     "execution_count": 124,
     "metadata": {},
     "output_type": "execute_result"
    }
   ],
   "source": [
    "df_orders_plus.product_category_name.unique()[4]"
   ]
  },
  {
   "cell_type": "code",
   "execution_count": 108,
   "metadata": {},
   "outputs": [
    {
     "name": "stdout",
     "output_type": "stream",
     "text": [
      "{\"data\":{\"translations\":[{\"translatedText\":\"furniture_decoration\"}]}}\n"
     ]
    }
   ],
   "source": [
    "url = \"https://google-translate1.p.rapidapi.com/language/translate/v2\"\n",
    "\n",
    "payload = create_payload_from_value(df_orders_plus.product_category_name.unique()[2])\n",
    "headers = {\n",
    "\t\"content-type\": \"application/x-www-form-urlencoded\",\n",
    "\t\"Accept-Encoding\": \"application/gzip\",\n",
    "\t\"X-RapidAPI-Key\": \"951fd9ac96msh3b013ff9c3e72bap1e98f8jsnae389f244e8b\",\n",
    "\t\"X-RapidAPI-Host\": \"google-translate1.p.rapidapi.com\"\n",
    "}\n",
    "\n",
    "response = requests.request(\"POST\", url, data=payload, headers=headers)\n",
    "\n",
    "print(response.text)"
   ]
  },
  {
   "cell_type": "markdown",
   "metadata": {},
   "source": [
    "Looks like it worked. Let's try to create our first dict<br>\n",
    "but I will save it with \"if False:\" just to be sure that this part is not executing automaticly"
   ]
  },
  {
   "cell_type": "code",
   "execution_count": 170,
   "metadata": {},
   "outputs": [],
   "source": [
    "def translate_from_pt_to_en(str_to_translate):\n",
    "    url = \"https://google-translate1.p.rapidapi.com/language/translate/v2\"\n",
    "    headers = {\n",
    "\t\"content-type\": \"application/x-www-form-urlencoded\",\n",
    "\t\"Accept-Encoding\": \"application/gzip\",\n",
    "\t\"X-RapidAPI-Key\": \"951fd9ac96msh3b013ff9c3e72bap1e98f8jsnae389f244e8b\",\n",
    "\t\"X-RapidAPI-Host\": \"google-translate1.p.rapidapi.com\"\n",
    "    }\n",
    "    payload = create_payload_from_value(str_to_translate)\n",
    "    \n",
    "    responce = requests.request(\"POST\", url, data=payload, headers=headers)\n",
    "    try:\n",
    "        parsed_translation = json.loads(responce.text)['data']['translations'][0]['translatedText']\n",
    "    except Exception as e:\n",
    "        print(f'something is wrong with {responce.text} translation, check error: \\n{e}')\n",
    "        parsed_translation = 'translation_error'\n",
    "\n",
    "\n",
    "    return parsed_translation\n"
   ]
  },
  {
   "cell_type": "code",
   "execution_count": 144,
   "metadata": {},
   "outputs": [],
   "source": [
    "a = translate_from_pt_to_en('ferramentas_jardim')"
   ]
  },
  {
   "cell_type": "code",
   "execution_count": 152,
   "metadata": {},
   "outputs": [
    {
     "name": "stdout",
     "output_type": "stream",
     "text": [
      "garden_tools\n",
      "garden_tools\n"
     ]
    }
   ],
   "source": [
    "print(a)\n",
    "time.sleep(0.21)\n",
    "print(a)"
   ]
  },
  {
   "cell_type": "code",
   "execution_count": 168,
   "metadata": {},
   "outputs": [],
   "source": [
    "def translate_series_of_values(series_of_values: pd.Series):\n",
    "    translation = {}\n",
    "    # used [:5] here just for debug perpuses\n",
    "    for element in series_of_values.unique():\n",
    "        translation[element] = translate_from_pt_to_en(element)\n",
    "        # we need to sleep here because our max requests is 5 per second\n",
    "        time.sleep(0.21)\n",
    "    \n",
    "    return translation"
   ]
  },
  {
   "cell_type": "code",
   "execution_count": 171,
   "metadata": {},
   "outputs": [
    {
     "name": "stdout",
     "output_type": "stream",
     "text": [
      "something is wrong with {\"message\":\"You have exceeded the MONTHLY quota for Characters on your current plan, BASIC. Upgrade your plan at https:\\/\\/rapidapi.com\\/googlecloud\\/api\\/google-translate1\"} translation, check error: \n",
      "'data'\n",
      "something is wrong with {\"message\":\"You have exceeded the MONTHLY quota for Characters on your current plan, BASIC. Upgrade your plan at https:\\/\\/rapidapi.com\\/googlecloud\\/api\\/google-translate1\"} translation, check error: \n",
      "'data'\n",
      "something is wrong with {\"message\":\"You have exceeded the MONTHLY quota for Characters on your current plan, BASIC. Upgrade your plan at https:\\/\\/rapidapi.com\\/googlecloud\\/api\\/google-translate1\"} translation, check error: \n",
      "'data'\n",
      "something is wrong with {\"message\":\"You have exceeded the MONTHLY quota for Characters on your current plan, BASIC. Upgrade your plan at https:\\/\\/rapidapi.com\\/googlecloud\\/api\\/google-translate1\"} translation, check error: \n",
      "'data'\n",
      "something is wrong with {\"message\":\"You have exceeded the MONTHLY quota for Characters on your current plan, BASIC. Upgrade your plan at https:\\/\\/rapidapi.com\\/googlecloud\\/api\\/google-translate1\"} translation, check error: \n",
      "'data'\n",
      "something is wrong with {\"message\":\"You have exceeded the MONTHLY quota for Characters on your current plan, BASIC. Upgrade your plan at https:\\/\\/rapidapi.com\\/googlecloud\\/api\\/google-translate1\"} translation, check error: \n",
      "'data'\n",
      "something is wrong with {\"message\":\"You have exceeded the MONTHLY quota for Characters on your current plan, BASIC. Upgrade your plan at https:\\/\\/rapidapi.com\\/googlecloud\\/api\\/google-translate1\"} translation, check error: \n",
      "'data'\n",
      "something is wrong with {\"message\":\"You have exceeded the MONTHLY quota for Characters on your current plan, BASIC. Upgrade your plan at https:\\/\\/rapidapi.com\\/googlecloud\\/api\\/google-translate1\"} translation, check error: \n",
      "'data'\n",
      "something is wrong with {\"message\":\"You have exceeded the MONTHLY quota for Characters on your current plan, BASIC. Upgrade your plan at https:\\/\\/rapidapi.com\\/googlecloud\\/api\\/google-translate1\"} translation, check error: \n",
      "'data'\n",
      "something is wrong with {\"message\":\"You have exceeded the MONTHLY quota for Characters on your current plan, BASIC. Upgrade your plan at https:\\/\\/rapidapi.com\\/googlecloud\\/api\\/google-translate1\"} translation, check error: \n",
      "'data'\n",
      "something is wrong with {\"message\":\"You have exceeded the MONTHLY quota for Characters on your current plan, BASIC. Upgrade your plan at https:\\/\\/rapidapi.com\\/googlecloud\\/api\\/google-translate1\"} translation, check error: \n",
      "'data'\n",
      "something is wrong with {\"message\":\"You have exceeded the MONTHLY quota for Characters on your current plan, BASIC. Upgrade your plan at https:\\/\\/rapidapi.com\\/googlecloud\\/api\\/google-translate1\"} translation, check error: \n",
      "'data'\n",
      "something is wrong with {\"message\":\"You have exceeded the MONTHLY quota for Characters on your current plan, BASIC. Upgrade your plan at https:\\/\\/rapidapi.com\\/googlecloud\\/api\\/google-translate1\"} translation, check error: \n",
      "'data'\n",
      "something is wrong with {\"message\":\"You have exceeded the MONTHLY quota for Characters on your current plan, BASIC. Upgrade your plan at https:\\/\\/rapidapi.com\\/googlecloud\\/api\\/google-translate1\"} translation, check error: \n",
      "'data'\n",
      "something is wrong with {\"message\":\"You have exceeded the MONTHLY quota for Characters on your current plan, BASIC. Upgrade your plan at https:\\/\\/rapidapi.com\\/googlecloud\\/api\\/google-translate1\"} translation, check error: \n",
      "'data'\n",
      "something is wrong with {\"message\":\"You have exceeded the MONTHLY quota for Characters on your current plan, BASIC. Upgrade your plan at https:\\/\\/rapidapi.com\\/googlecloud\\/api\\/google-translate1\"} translation, check error: \n",
      "'data'\n",
      "something is wrong with {\"message\":\"You have exceeded the MONTHLY quota for Characters on your current plan, BASIC. Upgrade your plan at https:\\/\\/rapidapi.com\\/googlecloud\\/api\\/google-translate1\"} translation, check error: \n",
      "'data'\n",
      "something is wrong with {\"message\":\"You have exceeded the MONTHLY quota for Characters on your current plan, BASIC. Upgrade your plan at https:\\/\\/rapidapi.com\\/googlecloud\\/api\\/google-translate1\"} translation, check error: \n",
      "'data'\n",
      "something is wrong with {\"message\":\"You have exceeded the MONTHLY quota for Characters on your current plan, BASIC. Upgrade your plan at https:\\/\\/rapidapi.com\\/googlecloud\\/api\\/google-translate1\"} translation, check error: \n",
      "'data'\n",
      "something is wrong with {\"message\":\"You have exceeded the MONTHLY quota for Characters on your current plan, BASIC. Upgrade your plan at https:\\/\\/rapidapi.com\\/googlecloud\\/api\\/google-translate1\"} translation, check error: \n",
      "'data'\n",
      "something is wrong with {\"message\":\"You have exceeded the MONTHLY quota for Characters on your current plan, BASIC. Upgrade your plan at https:\\/\\/rapidapi.com\\/googlecloud\\/api\\/google-translate1\"} translation, check error: \n",
      "'data'\n",
      "something is wrong with {\"message\":\"You have exceeded the MONTHLY quota for Characters on your current plan, BASIC. Upgrade your plan at https:\\/\\/rapidapi.com\\/googlecloud\\/api\\/google-translate1\"} translation, check error: \n",
      "'data'\n",
      "something is wrong with {\"message\":\"You have exceeded the MONTHLY quota for Characters on your current plan, BASIC. Upgrade your plan at https:\\/\\/rapidapi.com\\/googlecloud\\/api\\/google-translate1\"} translation, check error: \n",
      "'data'\n",
      "something is wrong with {\"message\":\"You have exceeded the MONTHLY quota for Characters on your current plan, BASIC. Upgrade your plan at https:\\/\\/rapidapi.com\\/googlecloud\\/api\\/google-translate1\"} translation, check error: \n",
      "'data'\n",
      "something is wrong with {\"message\":\"You have exceeded the MONTHLY quota for Characters on your current plan, BASIC. Upgrade your plan at https:\\/\\/rapidapi.com\\/googlecloud\\/api\\/google-translate1\"} translation, check error: \n",
      "'data'\n",
      "something is wrong with {\"message\":\"You have exceeded the MONTHLY quota for Characters on your current plan, BASIC. Upgrade your plan at https:\\/\\/rapidapi.com\\/googlecloud\\/api\\/google-translate1\"} translation, check error: \n",
      "'data'\n",
      "something is wrong with {\"message\":\"You have exceeded the MONTHLY quota for Characters on your current plan, BASIC. Upgrade your plan at https:\\/\\/rapidapi.com\\/googlecloud\\/api\\/google-translate1\"} translation, check error: \n",
      "'data'\n",
      "something is wrong with {\"message\":\"You have exceeded the MONTHLY quota for Characters on your current plan, BASIC. Upgrade your plan at https:\\/\\/rapidapi.com\\/googlecloud\\/api\\/google-translate1\"} translation, check error: \n",
      "'data'\n",
      "something is wrong with {\"message\":\"You have exceeded the MONTHLY quota for Characters on your current plan, BASIC. Upgrade your plan at https:\\/\\/rapidapi.com\\/googlecloud\\/api\\/google-translate1\"} translation, check error: \n",
      "'data'\n",
      "something is wrong with {\"message\":\"You have exceeded the MONTHLY quota for Characters on your current plan, BASIC. Upgrade your plan at https:\\/\\/rapidapi.com\\/googlecloud\\/api\\/google-translate1\"} translation, check error: \n",
      "'data'\n",
      "something is wrong with {\"message\":\"You have exceeded the MONTHLY quota for Characters on your current plan, BASIC. Upgrade your plan at https:\\/\\/rapidapi.com\\/googlecloud\\/api\\/google-translate1\"} translation, check error: \n",
      "'data'\n",
      "something is wrong with {\"message\":\"You have exceeded the MONTHLY quota for Characters on your current plan, BASIC. Upgrade your plan at https:\\/\\/rapidapi.com\\/googlecloud\\/api\\/google-translate1\"} translation, check error: \n",
      "'data'\n",
      "something is wrong with {\"message\":\"You have exceeded the MONTHLY quota for Characters on your current plan, BASIC. Upgrade your plan at https:\\/\\/rapidapi.com\\/googlecloud\\/api\\/google-translate1\"} translation, check error: \n",
      "'data'\n",
      "something is wrong with {\"message\":\"You have exceeded the MONTHLY quota for Characters on your current plan, BASIC. Upgrade your plan at https:\\/\\/rapidapi.com\\/googlecloud\\/api\\/google-translate1\"} translation, check error: \n",
      "'data'\n",
      "something is wrong with {\"message\":\"You have exceeded the MONTHLY quota for Characters on your current plan, BASIC. Upgrade your plan at https:\\/\\/rapidapi.com\\/googlecloud\\/api\\/google-translate1\"} translation, check error: \n",
      "'data'\n",
      "something is wrong with {\"message\":\"You have exceeded the MONTHLY quota for Characters on your current plan, BASIC. Upgrade your plan at https:\\/\\/rapidapi.com\\/googlecloud\\/api\\/google-translate1\"} translation, check error: \n",
      "'data'\n",
      "something is wrong with {\"message\":\"You have exceeded the MONTHLY quota for Characters on your current plan, BASIC. Upgrade your plan at https:\\/\\/rapidapi.com\\/googlecloud\\/api\\/google-translate1\"} translation, check error: \n",
      "'data'\n",
      "something is wrong with {\"message\":\"You have exceeded the MONTHLY quota for Characters on your current plan, BASIC. Upgrade your plan at https:\\/\\/rapidapi.com\\/googlecloud\\/api\\/google-translate1\"} translation, check error: \n",
      "'data'\n",
      "something is wrong with {\"message\":\"You have exceeded the MONTHLY quota for Characters on your current plan, BASIC. Upgrade your plan at https:\\/\\/rapidapi.com\\/googlecloud\\/api\\/google-translate1\"} translation, check error: \n",
      "'data'\n",
      "something is wrong with {\"message\":\"You have exceeded the MONTHLY quota for Characters on your current plan, BASIC. Upgrade your plan at https:\\/\\/rapidapi.com\\/googlecloud\\/api\\/google-translate1\"} translation, check error: \n",
      "'data'\n",
      "something is wrong with {\"message\":\"You have exceeded the MONTHLY quota for Characters on your current plan, BASIC. Upgrade your plan at https:\\/\\/rapidapi.com\\/googlecloud\\/api\\/google-translate1\"} translation, check error: \n",
      "'data'\n",
      "something is wrong with {\"message\":\"You have exceeded the MONTHLY quota for Characters on your current plan, BASIC. Upgrade your plan at https:\\/\\/rapidapi.com\\/googlecloud\\/api\\/google-translate1\"} translation, check error: \n",
      "'data'\n",
      "something is wrong with {\"message\":\"You have exceeded the MONTHLY quota for Characters on your current plan, BASIC. Upgrade your plan at https:\\/\\/rapidapi.com\\/googlecloud\\/api\\/google-translate1\"} translation, check error: \n",
      "'data'\n",
      "something is wrong with {\"message\":\"You have exceeded the MONTHLY quota for Characters on your current plan, BASIC. Upgrade your plan at https:\\/\\/rapidapi.com\\/googlecloud\\/api\\/google-translate1\"} translation, check error: \n",
      "'data'\n",
      "something is wrong with {\"message\":\"You have exceeded the MONTHLY quota for Characters on your current plan, BASIC. Upgrade your plan at https:\\/\\/rapidapi.com\\/googlecloud\\/api\\/google-translate1\"} translation, check error: \n",
      "'data'\n",
      "something is wrong with {\"message\":\"You have exceeded the MONTHLY quota for Characters on your current plan, BASIC. Upgrade your plan at https:\\/\\/rapidapi.com\\/googlecloud\\/api\\/google-translate1\"} translation, check error: \n",
      "'data'\n",
      "something is wrong with {\"message\":\"You have exceeded the MONTHLY quota for Characters on your current plan, BASIC. Upgrade your plan at https:\\/\\/rapidapi.com\\/googlecloud\\/api\\/google-translate1\"} translation, check error: \n",
      "'data'\n",
      "something is wrong with {\"message\":\"You have exceeded the MONTHLY quota for Characters on your current plan, BASIC. Upgrade your plan at https:\\/\\/rapidapi.com\\/googlecloud\\/api\\/google-translate1\"} translation, check error: \n",
      "'data'\n",
      "something is wrong with {\"message\":\"You have exceeded the MONTHLY quota for Characters on your current plan, BASIC. Upgrade your plan at https:\\/\\/rapidapi.com\\/googlecloud\\/api\\/google-translate1\"} translation, check error: \n",
      "'data'\n",
      "something is wrong with {\"message\":\"You have exceeded the MONTHLY quota for Characters on your current plan, BASIC. Upgrade your plan at https:\\/\\/rapidapi.com\\/googlecloud\\/api\\/google-translate1\"} translation, check error: \n",
      "'data'\n",
      "something is wrong with {\"message\":\"You have exceeded the MONTHLY quota for Characters on your current plan, BASIC. Upgrade your plan at https:\\/\\/rapidapi.com\\/googlecloud\\/api\\/google-translate1\"} translation, check error: \n",
      "'data'\n",
      "something is wrong with {\"message\":\"You have exceeded the MONTHLY quota for Characters on your current plan, BASIC. Upgrade your plan at https:\\/\\/rapidapi.com\\/googlecloud\\/api\\/google-translate1\"} translation, check error: \n",
      "'data'\n",
      "something is wrong with {\"message\":\"You have exceeded the MONTHLY quota for Characters on your current plan, BASIC. Upgrade your plan at https:\\/\\/rapidapi.com\\/googlecloud\\/api\\/google-translate1\"} translation, check error: \n",
      "'data'\n",
      "something is wrong with {\"message\":\"You have exceeded the MONTHLY quota for Characters on your current plan, BASIC. Upgrade your plan at https:\\/\\/rapidapi.com\\/googlecloud\\/api\\/google-translate1\"} translation, check error: \n",
      "'data'\n",
      "something is wrong with {\"message\":\"You have exceeded the MONTHLY quota for Characters on your current plan, BASIC. Upgrade your plan at https:\\/\\/rapidapi.com\\/googlecloud\\/api\\/google-translate1\"} translation, check error: \n",
      "'data'\n",
      "something is wrong with {\"message\":\"You have exceeded the MONTHLY quota for Characters on your current plan, BASIC. Upgrade your plan at https:\\/\\/rapidapi.com\\/googlecloud\\/api\\/google-translate1\"} translation, check error: \n",
      "'data'\n",
      "something is wrong with {\"message\":\"You have exceeded the MONTHLY quota for Characters on your current plan, BASIC. Upgrade your plan at https:\\/\\/rapidapi.com\\/googlecloud\\/api\\/google-translate1\"} translation, check error: \n",
      "'data'\n",
      "something is wrong with {\"message\":\"You have exceeded the MONTHLY quota for Characters on your current plan, BASIC. Upgrade your plan at https:\\/\\/rapidapi.com\\/googlecloud\\/api\\/google-translate1\"} translation, check error: \n",
      "'data'\n",
      "something is wrong with {\"message\":\"You have exceeded the MONTHLY quota for Characters on your current plan, BASIC. Upgrade your plan at https:\\/\\/rapidapi.com\\/googlecloud\\/api\\/google-translate1\"} translation, check error: \n",
      "'data'\n",
      "something is wrong with {\"message\":\"You have exceeded the MONTHLY quota for Characters on your current plan, BASIC. Upgrade your plan at https:\\/\\/rapidapi.com\\/googlecloud\\/api\\/google-translate1\"} translation, check error: \n",
      "'data'\n",
      "something is wrong with {\"message\":\"You have exceeded the MONTHLY quota for Characters on your current plan, BASIC. Upgrade your plan at https:\\/\\/rapidapi.com\\/googlecloud\\/api\\/google-translate1\"} translation, check error: \n",
      "'data'\n",
      "something is wrong with {\"message\":\"You have exceeded the MONTHLY quota for Characters on your current plan, BASIC. Upgrade your plan at https:\\/\\/rapidapi.com\\/googlecloud\\/api\\/google-translate1\"} translation, check error: \n",
      "'data'\n",
      "something is wrong with {\"message\":\"You have exceeded the MONTHLY quota for Characters on your current plan, BASIC. Upgrade your plan at https:\\/\\/rapidapi.com\\/googlecloud\\/api\\/google-translate1\"} translation, check error: \n",
      "'data'\n",
      "something is wrong with {\"message\":\"You have exceeded the MONTHLY quota for Characters on your current plan, BASIC. Upgrade your plan at https:\\/\\/rapidapi.com\\/googlecloud\\/api\\/google-translate1\"} translation, check error: \n",
      "'data'\n",
      "something is wrong with {\"message\":\"You have exceeded the MONTHLY quota for Characters on your current plan, BASIC. Upgrade your plan at https:\\/\\/rapidapi.com\\/googlecloud\\/api\\/google-translate1\"} translation, check error: \n",
      "'data'\n",
      "something is wrong with {\"message\":\"You have exceeded the MONTHLY quota for Characters on your current plan, BASIC. Upgrade your plan at https:\\/\\/rapidapi.com\\/googlecloud\\/api\\/google-translate1\"} translation, check error: \n",
      "'data'\n",
      "something is wrong with {\"message\":\"You have exceeded the MONTHLY quota for Characters on your current plan, BASIC. Upgrade your plan at https:\\/\\/rapidapi.com\\/googlecloud\\/api\\/google-translate1\"} translation, check error: \n",
      "'data'\n",
      "something is wrong with {\"message\":\"You have exceeded the MONTHLY quota for Characters on your current plan, BASIC. Upgrade your plan at https:\\/\\/rapidapi.com\\/googlecloud\\/api\\/google-translate1\"} translation, check error: \n",
      "'data'\n",
      "something is wrong with {\"message\":\"You have exceeded the MONTHLY quota for Characters on your current plan, BASIC. Upgrade your plan at https:\\/\\/rapidapi.com\\/googlecloud\\/api\\/google-translate1\"} translation, check error: \n",
      "'data'\n",
      "something is wrong with {\"message\":\"You have exceeded the MONTHLY quota for Characters on your current plan, BASIC. Upgrade your plan at https:\\/\\/rapidapi.com\\/googlecloud\\/api\\/google-translate1\"} translation, check error: \n",
      "'data'\n",
      "something is wrong with {\"message\":\"You have exceeded the MONTHLY quota for Characters on your current plan, BASIC. Upgrade your plan at https:\\/\\/rapidapi.com\\/googlecloud\\/api\\/google-translate1\"} translation, check error: \n",
      "'data'\n",
      "something is wrong with {\"message\":\"You have exceeded the MONTHLY quota for Characters on your current plan, BASIC. Upgrade your plan at https:\\/\\/rapidapi.com\\/googlecloud\\/api\\/google-translate1\"} translation, check error: \n",
      "'data'\n",
      "something is wrong with {\"message\":\"You have exceeded the MONTHLY quota for Characters on your current plan, BASIC. Upgrade your plan at https:\\/\\/rapidapi.com\\/googlecloud\\/api\\/google-translate1\"} translation, check error: \n",
      "'data'\n",
      "something is wrong with {\"message\":\"You have exceeded the MONTHLY quota for Characters on your current plan, BASIC. Upgrade your plan at https:\\/\\/rapidapi.com\\/googlecloud\\/api\\/google-translate1\"} translation, check error: \n",
      "'data'\n"
     ]
    }
   ],
   "source": [
    "cached_path = '../data/cached/category_translate_dict.pkl'\n",
    "\n",
    "def serialize(obj, file_name):\n",
    "    # Overwrites any existing file\n",
    "    with open(file_name, 'wb') as output:\n",
    "        pickle.dump(obj, output, pickle.HIGHEST_PROTOCOL)\n",
    "\n",
    "def de_serialize(file_name):\n",
    "\n",
    "    with open(file_name, 'rb') as input:\n",
    "        obj = pickle.load(input)\n",
    "        return obj\n",
    "\n",
    "if os.path.isfile(cached_path):\n",
    "    translation_dict = de_serialize(cached_path)\n",
    "else:\n",
    "    translation_dict = translate_series_of_values(df_orders_plus.product_category_name)\n",
    "    serialize(translation_dict, cached_path)"
   ]
  },
  {
   "cell_type": "markdown",
   "metadata": {},
   "source": [
    "That was 500 CHARACTERS per month. OoOoOooU. Well, that's bad. Let's try another API?"
   ]
  },
  {
   "cell_type": "code",
   "execution_count": 173,
   "metadata": {},
   "outputs": [
    {
     "name": "stdout",
     "output_type": "stream",
     "text": [
      "{\"responseData\":{\"translatedText\":\"garden_tools\",\"match\":0.85},\"quotaFinished\":false,\"mtLangSupported\":null,\"responseDetails\":\"\",\"responseStatus\":200,\"responderId\":\"91\",\"exception_code\":null,\"matches\":[{\"id\":0,\"segment\":\"ferramentas_jardim\",\"translation\":\"garden_tools\",\"source\":\"pt-PT\",\"target\":\"en-GB\",\"quality\":70,\"reference\":\"Machine Translation provided by ModernMT, Google, Microsoft or Worldlingo.\",\"usage-count\":2,\"subject\":false,\"created-by\":\"MT!\",\"last-updated-by\":\"MT!\",\"create-date\":\"2022-08-27 15:54:03\",\"last-update-date\":\"2022-08-27 15:54:03\",\"match\":0.85,\"model\":\"neural\"}]}\n"
     ]
    }
   ],
   "source": [
    "url = \"https://translated-mymemory---translation-memory.p.rapidapi.com/api/get\"\n",
    "\n",
    "querystring = {\"langpair\":\"pt|en\",\"q\":\"ferramentas_jardim\",\"mt\":\"1\",\"onlyprivate\":\"0\",\"de\":\"a@b.c\"}\n",
    "\n",
    "headers = {\n",
    "\t\"X-RapidAPI-Key\": \"951fd9ac96msh3b013ff9c3e72bap1e98f8jsnae389f244e8b\",\n",
    "\t\"X-RapidAPI-Host\": \"translated-mymemory---translation-memory.p.rapidapi.com\"\n",
    "}\n",
    "\n",
    "response = requests.request(\"GET\", url, headers=headers, params=querystring)\n",
    "\n",
    "print(response.text)"
   ]
  },
  {
   "cell_type": "markdown",
   "metadata": {},
   "source": [
    "Ok, looks like it works. And this API has 10 000 words / month limit which is great. Let's rewrite translate function"
   ]
  },
  {
   "cell_type": "code",
   "execution_count": 195,
   "metadata": {},
   "outputs": [],
   "source": [
    "def create_querystring_from_value(value, target='en', source='pt'):\n",
    "    # querystring_example = {\"langpair\":\"pt|en\",\n",
    "    #                         \"q\":\"ferramentas_jardim\",\n",
    "    #                         \"mt\":\"1\",\n",
    "    #                         \"onlyprivate\":\"0\",\n",
    "    #                         \"de\":\"a@b.c\"}\n",
    "    querystring = {\"mt\":\"1\",\n",
    "                    \"onlyprivate\":\"0\",\n",
    "                    \"de\":\"a@b.c\"}\n",
    "    \n",
    "    querystring[\"langpair\"] = f'{source}|{target}'\n",
    "    querystring[\"q\"] = value\n",
    "    \n",
    "    return querystring\n",
    "\n",
    "\n",
    "def translate_from_pt_to_en2(str_to_translate):\n",
    "    url = \"https://translated-mymemory---translation-memory.p.rapidapi.com/api/get\"\n",
    "    headers = {\n",
    "\t\"X-RapidAPI-Key\": \"951fd9ac96msh3b013ff9c3e72bap1e98f8jsnae389f244e8b\",\n",
    "\t\"X-RapidAPI-Host\": \"translated-mymemory---translation-memory.p.rapidapi.com\"\n",
    "    }\n",
    "    querystring = create_querystring_from_value(str_to_translate)\n",
    "    \n",
    "    responce = requests.request(\"GET\", url, headers=headers, params=querystring)\n",
    "    try:\n",
    "        parsed_translation = json.loads(responce.text)['responseData']['translatedText']\n",
    "    except Exception as e:\n",
    "        print(f'something is wrong with {str_to_translate} translation, check value and error: \\n{responce.text} \\n{e}')\n",
    "        parsed_translation = 'translation_error'\n",
    "\n",
    "\n",
    "    return parsed_translation"
   ]
  },
  {
   "cell_type": "code",
   "execution_count": 190,
   "metadata": {},
   "outputs": [],
   "source": [
    "a = translate_from_pt_to_en2(df_orders_plus.product_category_name.unique()[2])"
   ]
  },
  {
   "cell_type": "code",
   "execution_count": 194,
   "metadata": {},
   "outputs": [
    {
     "data": {
      "text/plain": [
       "'furniture_decoration'"
      ]
     },
     "execution_count": 194,
     "metadata": {},
     "output_type": "execute_result"
    }
   ],
   "source": [
    "json.loads(a)['responseData']['translatedText']"
   ]
  },
  {
   "cell_type": "code",
   "execution_count": 199,
   "metadata": {},
   "outputs": [],
   "source": [
    "cached_path = '../data/cached/category_translate_dict.pkl'\n",
    "\n",
    "def translate_series_of_values2(series_of_values: pd.Series):\n",
    "    translation = {}\n",
    "    for element in series_of_values.unique():\n",
    "        translation[element] = translate_from_pt_to_en2(element)\n",
    "        #doesn't work without this sleep\n",
    "        time.sleep(0.1)\n",
    "    \n",
    "    return translation\n",
    "\n",
    "def serialize(obj, file_name):\n",
    "    # Overwrites any existing file\n",
    "    with open(file_name, 'wb') as output:\n",
    "        pickle.dump(obj, output, pickle.HIGHEST_PROTOCOL)\n",
    "\n",
    "def de_serialize(file_name):\n",
    "\n",
    "    with open(file_name, 'rb') as input:\n",
    "        obj = pickle.load(input)\n",
    "        return obj\n",
    "\n",
    "if os.path.isfile(cached_path) and False:\n",
    "    translation_dict = de_serialize(cached_path)\n",
    "else:\n",
    "    translation_dict = translate_series_of_values2(df_orders_plus.product_category_name)\n",
    "    serialize(translation_dict, cached_path)"
   ]
  },
  {
   "cell_type": "code",
   "execution_count": 200,
   "metadata": {},
   "outputs": [
    {
     "data": {
      "text/plain": [
       "{'cool_stuff': 'cool_stuff',\n",
       " 'pet_shop': 'pet_shop',\n",
       " 'moveis_decoracao': 'furniture_decoration',\n",
       " 'perfumaria': 'perfumery',\n",
       " 'ferramentas_jardim': 'garden_tools',\n",
       " 'utilidades_domesticas': 'domestic_utilities',\n",
       " 'telefonia': 'telephony',\n",
       " 'beleza_saude': 'beauty_health',\n",
       " 'livros_tecnicos': 'technical_books',\n",
       " 'fashion_bolsas_e_acessorios': 'fashion_bags_and_accessories',\n",
       " 'cama_mesa_banho': 'bed_bath_table',\n",
       " 'esporte_lazer': 'sport_leisure',\n",
       " 'consoles_games': 'consoles_games',\n",
       " 'moveis_escritorio': 'office_furniture',\n",
       " 'malas_acessorios': 'suitcases_accessories',\n",
       " 'alimentos': 'food',\n",
       " 'agro_industria_e_comercio': 'agro_industry_e_commerce',\n",
       " 'eletronicos': 'electronic',\n",
       " 'informatica_acessorios': 'informatica_acessorios',\n",
       " 'construcao_ferramentas_construcao': 'construction_tools_construction',\n",
       " 'audio': 'Audio',\n",
       " 'bebes': 'babies',\n",
       " 'construcao_ferramentas_iluminacao': 'construction_tools_illumination',\n",
       " 'brinquedos': 'toys',\n",
       " 'papelaria': 'Stationery',\n",
       " 'industria_comercio_e_negocios': 'industry_commerce_and_business',\n",
       " 'relogios_presentes': 'watches_gift',\n",
       " 'automotivo': 'Automotive',\n",
       " 'unknown_category': 'unknown_category',\n",
       " 'eletrodomesticos': 'household appliances',\n",
       " 'moveis_cozinha_area_de_servico_jantar_e_jardim': 'furniture_kitchen_dining_service_area_and_garden',\n",
       " 'climatizacao': 'air conditioning',\n",
       " 'casa_conforto': 'home_comfort',\n",
       " 'telefonia_fixa': 'fixed_telephony',\n",
       " 'portateis_casa_forno_e_cafe': 'portables_casa_forno_e_cafe',\n",
       " 'fraldas_higiene': 'diapers_hygiene',\n",
       " 'sinalizacao_e_seguranca': 'signaling_and_safety',\n",
       " 'instrumentos_musicais': 'musical_instruments',\n",
       " 'eletroportateis': 'electroportable',\n",
       " 'construcao_ferramentas_jardim': 'construction_tools_garden',\n",
       " 'artes': 'ARTS',\n",
       " 'casa_construcao': 'casa_construção',\n",
       " 'livros_interesse_geral': 'books_general_interest',\n",
       " 'artigos_de_festas': 'party_articles',\n",
       " 'construcao_ferramentas_seguranca': 'construction_safety_tools',\n",
       " 'cine_foto': 'cine_foto',\n",
       " 'fashion_underwear_e_moda_praia': 'fashion_underwear_e_moda_praia',\n",
       " 'fashion_roupa_masculina': 'fashion_clothing_men',\n",
       " 'alimentos_bebidas': 'food_drinks',\n",
       " 'bebidas': 'drinks',\n",
       " 'moveis_sala': 'furniture_living room',\n",
       " 'market_place': 'market_place',\n",
       " 'musica': 'Music',\n",
       " 'fashion_calcados': 'fashion_calcados',\n",
       " 'flores': 'flower smiley',\n",
       " 'eletrodomesticos_2': 'household appliances_2',\n",
       " 'fashion_roupa_feminina': 'fashion_clothing_women',\n",
       " 'pcs': 'pcs',\n",
       " 'livros_importados': 'books_imported',\n",
       " 'artigos_de_natal': 'christmas_articles',\n",
       " 'moveis_quarto': 'furniture_bedroom',\n",
       " 'casa_conforto_2': 'home_comfort_2',\n",
       " 'portateis_cozinha_e_preparadores_de_alimentos': 'portable_kitchen_and_food_preparers',\n",
       " 'dvds_blu_ray': 'dvds_blu_ray',\n",
       " 'cds_dvds_musicais': 'cds_dvds_musicals',\n",
       " 'artes_e_artesanato': 'arts_and_crafts',\n",
       " 'moveis_colchao_e_estofado': 'furniture_mattress_and_upholstery',\n",
       " 'tablets_impressao_imagem': 'tablets_print_image',\n",
       " 'construcao_ferramentas_ferramentas': 'tool_build',\n",
       " 'fashion_esporte': 'fashion_sport',\n",
       " 'la_cuisine': 'la_cuisine',\n",
       " 'pc_gamer': 'pc_gamer',\n",
       " 'seguros_e_servicos': 'insurance_and_services',\n",
       " 'fashion_roupa_infanto_juvenil': 'fashion_clothes_infanto_juvenile'}"
      ]
     },
     "execution_count": 200,
     "metadata": {},
     "output_type": "execute_result"
    }
   ],
   "source": [
    "translation_dict"
   ]
  },
  {
   "cell_type": "markdown",
   "metadata": {},
   "source": [
    "We did it! Now we have our translational dict!"
   ]
  },
  {
   "cell_type": "code",
   "execution_count": 201,
   "metadata": {},
   "outputs": [],
   "source": [
    "df_orders_plus['eng_product_category_name'] = df_orders_plus['product_category_name'].map(translation_dict)"
   ]
  },
  {
   "cell_type": "code",
   "execution_count": 204,
   "metadata": {},
   "outputs": [
    {
     "data": {
      "text/html": [
       "<div>\n",
       "<style scoped>\n",
       "    .dataframe tbody tr th:only-of-type {\n",
       "        vertical-align: middle;\n",
       "    }\n",
       "\n",
       "    .dataframe tbody tr th {\n",
       "        vertical-align: top;\n",
       "    }\n",
       "\n",
       "    .dataframe thead th {\n",
       "        text-align: right;\n",
       "    }\n",
       "</style>\n",
       "<table border=\"1\" class=\"dataframe\">\n",
       "  <thead>\n",
       "    <tr style=\"text-align: right;\">\n",
       "      <th></th>\n",
       "      <th>order_id</th>\n",
       "      <th>product_id</th>\n",
       "      <th>price</th>\n",
       "      <th>order_status</th>\n",
       "      <th>order_purchase_timestamp</th>\n",
       "      <th>product_category_name</th>\n",
       "      <th>eng_product_category_name</th>\n",
       "    </tr>\n",
       "  </thead>\n",
       "  <tbody>\n",
       "    <tr>\n",
       "      <th>97</th>\n",
       "      <td>00063b381e2406b52ad429470734ebd5</td>\n",
       "      <td>f177554ea93259a5b282f24e33f65ab6</td>\n",
       "      <td>45.0</td>\n",
       "      <td>delivered</td>\n",
       "      <td>2018-07-27 17:21:27</td>\n",
       "      <td>fashion_bolsas_e_acessorios</td>\n",
       "      <td>fashion_bags_and_accessories</td>\n",
       "    </tr>\n",
       "    <tr>\n",
       "      <th>98</th>\n",
       "      <td>f0496c5b6508ecfdf0af4c67896dda41</td>\n",
       "      <td>f177554ea93259a5b282f24e33f65ab6</td>\n",
       "      <td>45.0</td>\n",
       "      <td>delivered</td>\n",
       "      <td>2017-10-18 00:50:36</td>\n",
       "      <td>fashion_bolsas_e_acessorios</td>\n",
       "      <td>fashion_bags_and_accessories</td>\n",
       "    </tr>\n",
       "    <tr>\n",
       "      <th>99</th>\n",
       "      <td>f0496c5b6508ecfdf0af4c67896dda41</td>\n",
       "      <td>f177554ea93259a5b282f24e33f65ab6</td>\n",
       "      <td>45.0</td>\n",
       "      <td>delivered</td>\n",
       "      <td>2017-10-18 00:50:36</td>\n",
       "      <td>fashion_bolsas_e_acessorios</td>\n",
       "      <td>fashion_bags_and_accessories</td>\n",
       "    </tr>\n",
       "    <tr>\n",
       "      <th>100</th>\n",
       "      <td>0006ec9db01a64e59a68b2c340bf65a7</td>\n",
       "      <td>99a4788cb24856965c36a24e339b6058</td>\n",
       "      <td>74.0</td>\n",
       "      <td>delivered</td>\n",
       "      <td>2018-07-24 17:04:17</td>\n",
       "      <td>cama_mesa_banho</td>\n",
       "      <td>bed_bath_table</td>\n",
       "    </tr>\n",
       "    <tr>\n",
       "      <th>101</th>\n",
       "      <td>00c763284c0056eed753352f5559ff0a</td>\n",
       "      <td>99a4788cb24856965c36a24e339b6058</td>\n",
       "      <td>79.9</td>\n",
       "      <td>delivered</td>\n",
       "      <td>2018-05-31 23:51:24</td>\n",
       "      <td>cama_mesa_banho</td>\n",
       "      <td>bed_bath_table</td>\n",
       "    </tr>\n",
       "  </tbody>\n",
       "</table>\n",
       "</div>"
      ],
      "text/plain": [
       "                             order_id                        product_id  \\\n",
       "97   00063b381e2406b52ad429470734ebd5  f177554ea93259a5b282f24e33f65ab6   \n",
       "98   f0496c5b6508ecfdf0af4c67896dda41  f177554ea93259a5b282f24e33f65ab6   \n",
       "99   f0496c5b6508ecfdf0af4c67896dda41  f177554ea93259a5b282f24e33f65ab6   \n",
       "100  0006ec9db01a64e59a68b2c340bf65a7  99a4788cb24856965c36a24e339b6058   \n",
       "101  00c763284c0056eed753352f5559ff0a  99a4788cb24856965c36a24e339b6058   \n",
       "\n",
       "     price order_status order_purchase_timestamp        product_category_name  \\\n",
       "97    45.0    delivered      2018-07-27 17:21:27  fashion_bolsas_e_acessorios   \n",
       "98    45.0    delivered      2017-10-18 00:50:36  fashion_bolsas_e_acessorios   \n",
       "99    45.0    delivered      2017-10-18 00:50:36  fashion_bolsas_e_acessorios   \n",
       "100   74.0    delivered      2018-07-24 17:04:17              cama_mesa_banho   \n",
       "101   79.9    delivered      2018-05-31 23:51:24              cama_mesa_banho   \n",
       "\n",
       "        eng_product_category_name  \n",
       "97   fashion_bags_and_accessories  \n",
       "98   fashion_bags_and_accessories  \n",
       "99   fashion_bags_and_accessories  \n",
       "100                bed_bath_table  \n",
       "101                bed_bath_table  "
      ]
     },
     "execution_count": 204,
     "metadata": {},
     "output_type": "execute_result"
    }
   ],
   "source": [
    "df_orders_plus.iloc[97:102]"
   ]
  },
  {
   "cell_type": "markdown",
   "metadata": {},
   "source": [
    "# Prepare it for analysis"
   ]
  },
  {
   "cell_type": "markdown",
   "metadata": {},
   "source": [
    "Let's split date and time ti different columns"
   ]
  },
  {
   "cell_type": "code",
   "execution_count": 208,
   "metadata": {},
   "outputs": [],
   "source": [
    "df_orders_plus['order_purchase_date'] = df_orders_plus['order_purchase_timestamp'].apply(lambda x: x.date())\n",
    "df_orders_plus['order_purchase_time'] = df_orders_plus['order_purchase_timestamp'].apply(lambda x: x.time())\n"
   ]
  },
  {
   "cell_type": "code",
   "execution_count": 209,
   "metadata": {},
   "outputs": [
    {
     "data": {
      "text/html": [
       "<div>\n",
       "<style scoped>\n",
       "    .dataframe tbody tr th:only-of-type {\n",
       "        vertical-align: middle;\n",
       "    }\n",
       "\n",
       "    .dataframe tbody tr th {\n",
       "        vertical-align: top;\n",
       "    }\n",
       "\n",
       "    .dataframe thead th {\n",
       "        text-align: right;\n",
       "    }\n",
       "</style>\n",
       "<table border=\"1\" class=\"dataframe\">\n",
       "  <thead>\n",
       "    <tr style=\"text-align: right;\">\n",
       "      <th></th>\n",
       "      <th>order_id</th>\n",
       "      <th>product_id</th>\n",
       "      <th>price</th>\n",
       "      <th>order_status</th>\n",
       "      <th>order_purchase_timestamp</th>\n",
       "      <th>product_category_name</th>\n",
       "      <th>eng_product_category_name</th>\n",
       "      <th>order_purchase_date</th>\n",
       "      <th>order_purchase_time</th>\n",
       "    </tr>\n",
       "  </thead>\n",
       "  <tbody>\n",
       "    <tr>\n",
       "      <th>0</th>\n",
       "      <td>00010242fe8c5a6d1ba2dd792cb16214</td>\n",
       "      <td>4244733e06e7ecb4970a6e2683c13e61</td>\n",
       "      <td>58.9</td>\n",
       "      <td>delivered</td>\n",
       "      <td>2017-09-13 08:59:02</td>\n",
       "      <td>cool_stuff</td>\n",
       "      <td>cool_stuff</td>\n",
       "      <td>2017-09-13</td>\n",
       "      <td>08:59:02</td>\n",
       "    </tr>\n",
       "    <tr>\n",
       "      <th>1</th>\n",
       "      <td>130898c0987d1801452a8ed92a670612</td>\n",
       "      <td>4244733e06e7ecb4970a6e2683c13e61</td>\n",
       "      <td>55.9</td>\n",
       "      <td>delivered</td>\n",
       "      <td>2017-06-28 11:52:20</td>\n",
       "      <td>cool_stuff</td>\n",
       "      <td>cool_stuff</td>\n",
       "      <td>2017-06-28</td>\n",
       "      <td>11:52:20</td>\n",
       "    </tr>\n",
       "    <tr>\n",
       "      <th>2</th>\n",
       "      <td>532ed5e14e24ae1f0d735b91524b98b9</td>\n",
       "      <td>4244733e06e7ecb4970a6e2683c13e61</td>\n",
       "      <td>64.9</td>\n",
       "      <td>delivered</td>\n",
       "      <td>2018-05-18 10:25:53</td>\n",
       "      <td>cool_stuff</td>\n",
       "      <td>cool_stuff</td>\n",
       "      <td>2018-05-18</td>\n",
       "      <td>10:25:53</td>\n",
       "    </tr>\n",
       "    <tr>\n",
       "      <th>3</th>\n",
       "      <td>6f8c31653edb8c83e1a739408b5ff750</td>\n",
       "      <td>4244733e06e7ecb4970a6e2683c13e61</td>\n",
       "      <td>58.9</td>\n",
       "      <td>delivered</td>\n",
       "      <td>2017-08-01 18:38:42</td>\n",
       "      <td>cool_stuff</td>\n",
       "      <td>cool_stuff</td>\n",
       "      <td>2017-08-01</td>\n",
       "      <td>18:38:42</td>\n",
       "    </tr>\n",
       "    <tr>\n",
       "      <th>4</th>\n",
       "      <td>7d19f4ef4d04461989632411b7e588b9</td>\n",
       "      <td>4244733e06e7ecb4970a6e2683c13e61</td>\n",
       "      <td>58.9</td>\n",
       "      <td>delivered</td>\n",
       "      <td>2017-08-10 21:48:40</td>\n",
       "      <td>cool_stuff</td>\n",
       "      <td>cool_stuff</td>\n",
       "      <td>2017-08-10</td>\n",
       "      <td>21:48:40</td>\n",
       "    </tr>\n",
       "  </tbody>\n",
       "</table>\n",
       "</div>"
      ],
      "text/plain": [
       "                           order_id                        product_id  price  \\\n",
       "0  00010242fe8c5a6d1ba2dd792cb16214  4244733e06e7ecb4970a6e2683c13e61   58.9   \n",
       "1  130898c0987d1801452a8ed92a670612  4244733e06e7ecb4970a6e2683c13e61   55.9   \n",
       "2  532ed5e14e24ae1f0d735b91524b98b9  4244733e06e7ecb4970a6e2683c13e61   64.9   \n",
       "3  6f8c31653edb8c83e1a739408b5ff750  4244733e06e7ecb4970a6e2683c13e61   58.9   \n",
       "4  7d19f4ef4d04461989632411b7e588b9  4244733e06e7ecb4970a6e2683c13e61   58.9   \n",
       "\n",
       "  order_status order_purchase_timestamp product_category_name  \\\n",
       "0    delivered      2017-09-13 08:59:02            cool_stuff   \n",
       "1    delivered      2017-06-28 11:52:20            cool_stuff   \n",
       "2    delivered      2018-05-18 10:25:53            cool_stuff   \n",
       "3    delivered      2017-08-01 18:38:42            cool_stuff   \n",
       "4    delivered      2017-08-10 21:48:40            cool_stuff   \n",
       "\n",
       "  eng_product_category_name order_purchase_date order_purchase_time  \n",
       "0                cool_stuff          2017-09-13            08:59:02  \n",
       "1                cool_stuff          2017-06-28            11:52:20  \n",
       "2                cool_stuff          2018-05-18            10:25:53  \n",
       "3                cool_stuff          2017-08-01            18:38:42  \n",
       "4                cool_stuff          2017-08-10            21:48:40  "
      ]
     },
     "execution_count": 209,
     "metadata": {},
     "output_type": "execute_result"
    }
   ],
   "source": [
    "df_orders_plus.head()"
   ]
  },
  {
   "cell_type": "markdown",
   "metadata": {},
   "source": [
    "Some orders were not delivered (around 2%) and business don't want to count this purchases. Let's filter them out"
   ]
  },
  {
   "cell_type": "code",
   "execution_count": 213,
   "metadata": {},
   "outputs": [
    {
     "name": "stdout",
     "output_type": "stream",
     "text": [
      "(112650, 9)\n",
      "(110197, 9)\n"
     ]
    }
   ],
   "source": [
    "print(df_orders_plus.shape)\n",
    "df_orders_plus = df_orders_plus[df_orders_plus['order_status']=='delivered']\n",
    "print(df_orders_plus.shape)"
   ]
  },
  {
   "cell_type": "markdown",
   "metadata": {},
   "source": [
    "# Analysis part"
   ]
  },
  {
   "cell_type": "code",
   "execution_count": null,
   "metadata": {},
   "outputs": [],
   "source": []
  },
  {
   "cell_type": "code",
   "execution_count": null,
   "metadata": {},
   "outputs": [],
   "source": []
  },
  {
   "cell_type": "code",
   "execution_count": null,
   "metadata": {},
   "outputs": [],
   "source": []
  },
  {
   "cell_type": "code",
   "execution_count": null,
   "metadata": {},
   "outputs": [],
   "source": []
  },
  {
   "cell_type": "code",
   "execution_count": null,
   "metadata": {},
   "outputs": [],
   "source": []
  },
  {
   "cell_type": "code",
   "execution_count": null,
   "metadata": {},
   "outputs": [],
   "source": []
  },
  {
   "cell_type": "code",
   "execution_count": null,
   "metadata": {},
   "outputs": [],
   "source": []
  },
  {
   "cell_type": "code",
   "execution_count": null,
   "metadata": {},
   "outputs": [],
   "source": []
  },
  {
   "cell_type": "code",
   "execution_count": null,
   "metadata": {},
   "outputs": [],
   "source": []
  },
  {
   "cell_type": "code",
   "execution_count": null,
   "metadata": {},
   "outputs": [],
   "source": []
  },
  {
   "cell_type": "code",
   "execution_count": null,
   "metadata": {},
   "outputs": [],
   "source": []
  },
  {
   "cell_type": "code",
   "execution_count": 165,
   "metadata": {},
   "outputs": [
    {
     "data": {
      "text/plain": [
       "{'cool_stuff': 'cool_stuff',\n",
       " 'pet_shop': 'pet Shop',\n",
       " 'moveis_decoracao': 'furniture_decoration',\n",
       " 'perfumaria': 'perfumery',\n",
       " 'ferramentas_jardim': 'garden_tools'}"
      ]
     },
     "execution_count": 165,
     "metadata": {},
     "output_type": "execute_result"
    }
   ],
   "source": [
    "c = translation_dict = de_serialize(cached_path)\n",
    "c"
   ]
  },
  {
   "cell_type": "code",
   "execution_count": 167,
   "metadata": {},
   "outputs": [
    {
     "data": {
      "text/plain": [
       "True"
      ]
     },
     "execution_count": 167,
     "metadata": {},
     "output_type": "execute_result"
    }
   ],
   "source": [
    "os.path.isfile(cached_path)"
   ]
  },
  {
   "cell_type": "code",
   "execution_count": 136,
   "metadata": {},
   "outputs": [
    {
     "data": {
      "text/plain": [
       "{'data': {'translations': [{'translatedText': 'garden_tools'}]}}"
      ]
     },
     "execution_count": 136,
     "metadata": {},
     "output_type": "execute_result"
    }
   ],
   "source": []
  },
  {
   "cell_type": "code",
   "execution_count": null,
   "metadata": {},
   "outputs": [],
   "source": []
  }
 ],
 "metadata": {
  "kernelspec": {
   "display_name": "Python 3.8.10 ('env': venv)",
   "language": "python",
   "name": "python3"
  },
  "language_info": {
   "codemirror_mode": {
    "name": "ipython",
    "version": 3
   },
   "file_extension": ".py",
   "mimetype": "text/x-python",
   "name": "python",
   "nbconvert_exporter": "python",
   "pygments_lexer": "ipython3",
   "version": "3.8.10"
  },
  "orig_nbformat": 4,
  "vscode": {
   "interpreter": {
    "hash": "b07d4539a9d93b727089c842ffadd80a5b39ca4601e10897dfedaa202771bfd9"
   }
  }
 },
 "nbformat": 4,
 "nbformat_minor": 2
}
